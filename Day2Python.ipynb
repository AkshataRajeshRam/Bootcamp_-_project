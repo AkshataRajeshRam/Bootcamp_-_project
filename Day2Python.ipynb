{
  "nbformat": 4,
  "nbformat_minor": 0,
  "metadata": {
    "colab": {
      "provenance": [],
      "authorship_tag": "ABX9TyMJaiUOvg000JZZc0PUTPPE",
      "include_colab_link": true
    },
    "kernelspec": {
      "name": "python3",
      "display_name": "Python 3"
    },
    "language_info": {
      "name": "python"
    }
  },
  "cells": [
    {
      "cell_type": "markdown",
      "metadata": {
        "id": "view-in-github",
        "colab_type": "text"
      },
      "source": [
        "<a href=\"https://colab.research.google.com/github/AkshataRajeshRam/Bootcamp_-_project/blob/main/Day2Python.ipynb\" target=\"_parent\"><img src=\"https://colab.research.google.com/assets/colab-badge.svg\" alt=\"Open In Colab\"/></a>"
      ]
    },
    {
      "cell_type": "markdown",
      "source": [],
      "metadata": {
        "id": "vTfnUGMY3Gh-"
      }
    },
    {
      "cell_type": "markdown",
      "source": [
        "\n",
        "\n",
        "#BASIC PYTHON\n",
        "\n",
        "\n"
      ],
      "metadata": {
        "id": "9Y6DhL5T3KUu"
      }
    },
    {
      "cell_type": "markdown",
      "source": [
        "#Arithmetic\n"
      ],
      "metadata": {
        "id": "jSAwFBr73pdK"
      }
    },
    {
      "cell_type": "code",
      "execution_count": null,
      "metadata": {
        "colab": {
          "base_uri": "https://localhost:8080/"
        },
        "id": "BUNEMicn3FHW",
        "outputId": "9dcfe4e2-52cf-4adf-a67c-13e7c92e3f5c"
      },
      "outputs": [
        {
          "output_type": "stream",
          "name": "stdout",
          "text": [
            "11\n"
          ]
        }
      ],
      "source": [
        "a=5\n",
        "b=6\n",
        "c=a+b\n",
        "print(c)"
      ]
    },
    {
      "cell_type": "code",
      "source": [
        "d=a*b\n",
        "print(d)"
      ],
      "metadata": {
        "colab": {
          "base_uri": "https://localhost:8080/"
        },
        "id": "0JBGG-Ax390k",
        "outputId": "a151ed7e-9b2b-40f7-f159-71f0c7a81dba"
      },
      "execution_count": null,
      "outputs": [
        {
          "output_type": "stream",
          "name": "stdout",
          "text": [
            "30\n"
          ]
        }
      ]
    },
    {
      "cell_type": "code",
      "source": [
        "a=int(input(\"Enter a value for a: \"))\n",
        "b=int(input(\"Enter a value for b: \"))\n",
        "add=a+b\n",
        "sub=a-b\n",
        "mult=a*b\n",
        "div=a/b\n",
        "mod=a%b\n",
        "print(\"sum: {0}, sub:{1}, mult:{2}, div:{3}, mod:{4}\".format(add,sub,mult,div,mod))\n",
        "print(\"sum: %d, sub:%d, mult:%d, div:%3.3f, mod:%d\"%(add,sub,mult,div,mod))\n",
        "print('{0:<4} | {1:<4} | {2:<4} | {3:<4} | {4:<4}'.format('sum', 'diff', 'mult', 'div', 'mod'))\n",
        "print('{0:<4} | {1:<4} | {2:<4} | {3:<4} | {4:<4}'.format(add,sub,mult,div,mod))\n",
        "\n"
      ],
      "metadata": {
        "colab": {
          "base_uri": "https://localhost:8080/"
        },
        "id": "kYUb2PJZ8uVF",
        "outputId": "0e5f0725-b59d-4fad-b3f8-9ab9f4ba9c4b"
      },
      "execution_count": null,
      "outputs": [
        {
          "output_type": "stream",
          "name": "stdout",
          "text": [
            "Enter a value for a: 10\n",
            "Enter a value for b: 5\n",
            "sum: 15, sub:5, mult:50, div:2.0, mod:0\n",
            "sum: 15, sub:5, mult:50, div:2.000, mod:0\n",
            "sum  | diff | mult | div  | mod \n",
            "15   | 5    | 50   | 2.0  | 0   \n"
          ]
        }
      ]
    },
    {
      "cell_type": "code",
      "source": [
        "a=2\n",
        "b=3\n",
        "c=a**b\n",
        "print(c)"
      ],
      "metadata": {
        "colab": {
          "base_uri": "https://localhost:8080/"
        },
        "id": "tAKrG7VoByqF",
        "outputId": "6bacb43b-f04e-49a7-dc5d-25e1b5c9c7ba"
      },
      "execution_count": null,
      "outputs": [
        {
          "output_type": "stream",
          "name": "stdout",
          "text": [
            "8\n"
          ]
        }
      ]
    },
    {
      "cell_type": "code",
      "source": [
        "a=\"Pyhton\"\n",
        "b=\"Bootcamp\"\n",
        "print(a+b)"
      ],
      "metadata": {
        "colab": {
          "base_uri": "https://localhost:8080/"
        },
        "id": "nGWut4o5B6Dw",
        "outputId": "bc2a2223-a371-4884-d93b-35c199df64fc"
      },
      "execution_count": null,
      "outputs": [
        {
          "output_type": "stream",
          "name": "stdout",
          "text": [
            "PyhtonBootcamp\n"
          ]
        }
      ]
    },
    {
      "cell_type": "code",
      "source": [
        "a=\"Akshata\"\n",
        "print(len(a))"
      ],
      "metadata": {
        "colab": {
          "base_uri": "https://localhost:8080/"
        },
        "id": "eV_wdaZtCDlg",
        "outputId": "eb36cd49-c55c-4bac-ff03-6c8bd3c5c0bd"
      },
      "execution_count": null,
      "outputs": [
        {
          "output_type": "stream",
          "name": "stdout",
          "text": [
            "7\n"
          ]
        }
      ]
    },
    {
      "cell_type": "code",
      "source": [
        "a=\"A\"\n",
        "b=a*5\n",
        "print(b)"
      ],
      "metadata": {
        "colab": {
          "base_uri": "https://localhost:8080/"
        },
        "id": "YgGXBA2ECYDU",
        "outputId": "f8798b00-fba1-4eb5-dc0f-09e91ee28832"
      },
      "execution_count": null,
      "outputs": [
        {
          "output_type": "stream",
          "name": "stdout",
          "text": [
            "AAAAA\n"
          ]
        }
      ]
    },
    {
      "cell_type": "code",
      "source": [
        "a=\"Akshata\"\n",
        "print(a[3])\n",
        "print(a[:])\n",
        "print(a[0:])\n",
        "print(a[:2])\n",
        "print(a[:-1])\n",
        "print(a[::2])\n",
        "print(a[::-1])"
      ],
      "metadata": {
        "colab": {
          "base_uri": "https://localhost:8080/"
        },
        "id": "rzMoOd9CC6PQ",
        "outputId": "ea8b35c0-2b06-44c5-8555-29a8af1dfc5f"
      },
      "execution_count": null,
      "outputs": [
        {
          "output_type": "stream",
          "name": "stdout",
          "text": [
            "h\n",
            "Akshata\n",
            "Akshata\n",
            "Ak\n",
            "Akshat\n",
            "Asaa\n",
            "atahskA\n"
          ]
        }
      ]
    },
    {
      "cell_type": "code",
      "source": [
        "a=\"Master Class\"\n",
        "print(a.upper())\n",
        "print(a.lower())"
      ],
      "metadata": {
        "colab": {
          "base_uri": "https://localhost:8080/"
        },
        "id": "2Y03diOVDfVe",
        "outputId": "3984e93f-e13a-425a-aa18-fd7701089c6c"
      },
      "execution_count": null,
      "outputs": [
        {
          "output_type": "stream",
          "name": "stdout",
          "text": [
            "MASTER CLASS\n",
            "master class\n"
          ]
        }
      ]
    },
    {
      "cell_type": "code",
      "source": [
        "b=a.split()\n",
        "print(b)\n",
        "print(b[0])\n",
        "print(b[1])\n"
      ],
      "metadata": {
        "colab": {
          "base_uri": "https://localhost:8080/"
        },
        "id": "IrRKc-wKD9Lb",
        "outputId": "6a964f51-6943-4665-dcf0-fea1198e42ca"
      },
      "execution_count": null,
      "outputs": [
        {
          "output_type": "stream",
          "name": "stdout",
          "text": [
            "['Master', 'Class']\n",
            "Master\n",
            "Class\n"
          ]
        }
      ]
    },
    {
      "cell_type": "code",
      "source": [
        "c=\"Elon Musk,Steve Jobs\"\n",
        "d=c.split(\",\")\n",
        "print(d)\n",
        "print(d[1])"
      ],
      "metadata": {
        "colab": {
          "base_uri": "https://localhost:8080/"
        },
        "id": "w15xwpsSEeI3",
        "outputId": "05edc6f9-2c93-4f1e-ba68-444781d7932c"
      },
      "execution_count": null,
      "outputs": [
        {
          "output_type": "stream",
          "name": "stdout",
          "text": [
            "['ElonMusk', 'SteveJobs']\n",
            "SteveJobs\n"
          ]
        }
      ]
    },
    {
      "cell_type": "code",
      "source": [
        "a=\"Master Class\"\n",
        "print(f\"Welcome to Python {a}\")"
      ],
      "metadata": {
        "colab": {
          "base_uri": "https://localhost:8080/"
        },
        "id": "mwik0th0FICs",
        "outputId": "c3fb596b-e553-45e0-b99c-c9fedeeb4bdc"
      },
      "execution_count": null,
      "outputs": [
        {
          "output_type": "stream",
          "name": "stdout",
          "text": [
            "Welcome to Python Master Class\n"
          ]
        }
      ]
    },
    {
      "cell_type": "markdown",
      "source": [
        "#Create List\n",
        "\n"
      ],
      "metadata": {
        "id": "GlyT5J9kq8_4"
      }
    },
    {
      "cell_type": "code",
      "source": [
        "a=[1,2,3,4,5]\n",
        "b=[\"Akshata\", 21, \"AI\"]\n",
        "print(a+b)\n",
        "print(len(a))\n",
        "print(a[:2])\n",
        "print(b[2])\n",
        "print(a[:-1])"
      ],
      "metadata": {
        "colab": {
          "base_uri": "https://localhost:8080/"
        },
        "id": "S_CqSJ21rE9-",
        "outputId": "f877d118-c432-4657-c4b6-87cbaeea5007"
      },
      "execution_count": null,
      "outputs": [
        {
          "output_type": "stream",
          "name": "stdout",
          "text": [
            "[1, 2, 3, 4, 5, 'Akshata', 21, 'AI']\n",
            "5\n",
            "[1, 2]\n",
            "AI\n",
            "[1, 2, 3, 4]\n"
          ]
        }
      ]
    },
    {
      "cell_type": "code",
      "source": [
        "a=[1,2,3,4,5]\n",
        "a.append(6)\n",
        "print(a)"
      ],
      "metadata": {
        "colab": {
          "base_uri": "https://localhost:8080/"
        },
        "id": "f5uCqLm3rxSV",
        "outputId": "9b02a654-4ba8-4e29-a727-6994e145d9e6"
      },
      "execution_count": null,
      "outputs": [
        {
          "output_type": "stream",
          "name": "stdout",
          "text": [
            "[1, 2, 3, 4, 5, 6]\n"
          ]
        }
      ]
    },
    {
      "cell_type": "code",
      "source": [
        "a=[1,2,3,4,5]\n",
        "a.reverse()\n",
        "a\n",
        "print(min(a))"
      ],
      "metadata": {
        "colab": {
          "base_uri": "https://localhost:8080/"
        },
        "id": "U8gQAzVhsB39",
        "outputId": "8c479219-c9ec-4589-adcf-dfc740a486df"
      },
      "execution_count": null,
      "outputs": [
        {
          "output_type": "execute_result",
          "data": {
            "text/plain": [
              "[5, 4, 3, 2, 1]"
            ]
          },
          "metadata": {},
          "execution_count": 9
        }
      ]
    },
    {
      "cell_type": "code",
      "source": [
        "a=[1,2,3]\n",
        "b=[4,5,6]\n",
        "c=[a,b]\n",
        "print(c)\n",
        "print(c[0])\n",
        "print(c[0][0])"
      ],
      "metadata": {
        "colab": {
          "base_uri": "https://localhost:8080/"
        },
        "id": "7PJx_YVpsoU_",
        "outputId": "6af46a9b-8b6f-4cf3-9038-d0c444bc8b87"
      },
      "execution_count": null,
      "outputs": [
        {
          "output_type": "stream",
          "name": "stdout",
          "text": [
            "[[1, 2, 3], [4, 5, 6]]\n",
            "[1, 2, 3]\n",
            "1\n"
          ]
        }
      ]
    },
    {
      "cell_type": "markdown",
      "source": [
        "\n",
        "#DICTIONARY\n"
      ],
      "metadata": {
        "id": "e3M1bAZptFC6"
      }
    },
    {
      "cell_type": "code",
      "source": [
        "a={\"Name\":\"Akshata\", \"Age\":21,\"Profession\":\"AI Engineer\"}\n",
        "print(a)\n",
        "print(a[\"Name\"])\n",
        "a[\"Age\"]=22\n",
        "a\n"
      ],
      "metadata": {
        "colab": {
          "base_uri": "https://localhost:8080/"
        },
        "id": "mrOiYpUCtL7r",
        "outputId": "497e8117-0b9c-4f33-837d-f1a32633bedf"
      },
      "execution_count": null,
      "outputs": [
        {
          "output_type": "stream",
          "name": "stdout",
          "text": [
            "{'Name': 'Akshata', 'Age': 21, 'Profession': 'AI Engineer'}\n",
            "Akshata\n"
          ]
        },
        {
          "output_type": "execute_result",
          "data": {
            "text/plain": [
              "{'Name': 'Akshata', 'Age': 22, 'Profession': 'AI Engineer'}"
            ]
          },
          "metadata": {},
          "execution_count": 18
        }
      ]
    }
  ]
}