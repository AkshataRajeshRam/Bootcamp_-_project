{
  "nbformat": 4,
  "nbformat_minor": 0,
  "metadata": {
    "colab": {
      "provenance": [],
      "authorship_tag": "ABX9TyNgADOoVSKhJxBLuz51wxnN",
      "include_colab_link": true
    },
    "kernelspec": {
      "name": "python3",
      "display_name": "Python 3"
    },
    "language_info": {
      "name": "python"
    }
  },
  "cells": [
    {
      "cell_type": "markdown",
      "metadata": {
        "id": "view-in-github",
        "colab_type": "text"
      },
      "source": [
        "<a href=\"https://colab.research.google.com/github/AkshataRajeshRam/Bootcamp_-_project/blob/main/PythonDay3.ipynb\" target=\"_parent\"><img src=\"https://colab.research.google.com/assets/colab-badge.svg\" alt=\"Open In Colab\"/></a>"
      ]
    },
    {
      "cell_type": "code",
      "execution_count": null,
      "metadata": {
        "id": "EQU6yweMvnnG"
      },
      "outputs": [],
      "source": []
    },
    {
      "cell_type": "markdown",
      "source": [
        "\n",
        "#Continuation Of Python Series\n"
      ],
      "metadata": {
        "id": "aQNhWLxmwMBM"
      }
    },
    {
      "cell_type": "code",
      "source": [
        "a=[1,2,3,4,5]\n",
        "from random import shuffle\n",
        "shuffle(a)\n",
        "a"
      ],
      "metadata": {
        "colab": {
          "base_uri": "https://localhost:8080/"
        },
        "id": "5Rin6H4EwSQQ",
        "outputId": "02f1f9a1-6fd6-4c7e-f290-a3375c7040e6"
      },
      "execution_count": null,
      "outputs": [
        {
          "output_type": "execute_result",
          "data": {
            "text/plain": [
              "[2, 4, 5, 1, 3]"
            ]
          },
          "metadata": {},
          "execution_count": 1
        }
      ]
    },
    {
      "cell_type": "code",
      "source": [
        "b={\"Climate\": {\"Condition\":{\"Temperature\":\"40 degrees\",\"Humidity\": \"70 percentage\"}}}\n",
        "print(b[\"Climate\"][\"Condition\"][\"Humidity\"])"
      ],
      "metadata": {
        "colab": {
          "base_uri": "https://localhost:8080/"
        },
        "id": "mjLccXGWwzkV",
        "outputId": "49d23251-f1d6-4861-a23c-50dd558c1bc3"
      },
      "execution_count": null,
      "outputs": [
        {
          "output_type": "stream",
          "name": "stdout",
          "text": [
            "70 percentage\n"
          ]
        }
      ]
    },
    {
      "cell_type": "markdown",
      "source": [
        "\n",
        "\n",
        "#Creating a set\n"
      ],
      "metadata": {
        "id": "7Oh9g-Uhywdv"
      }
    },
    {
      "cell_type": "code",
      "source": [
        "a=set()"
      ],
      "metadata": {
        "id": "ejwQ4OHgyzwE"
      },
      "execution_count": null,
      "outputs": []
    },
    {
      "cell_type": "code",
      "source": [],
      "metadata": {
        "id": "pujaXdbcy6cL"
      },
      "execution_count": null,
      "outputs": []
    },
    {
      "cell_type": "code",
      "source": [
        "a.add(\"Champ\")\n",
        "a"
      ],
      "metadata": {
        "colab": {
          "base_uri": "https://localhost:8080/"
        },
        "id": "J5Lt4GyNy8OH",
        "outputId": "8151742d-19d7-4084-81d2-d65711a2e88f"
      },
      "execution_count": null,
      "outputs": [
        {
          "output_type": "execute_result",
          "data": {
            "text/plain": [
              "{'Champ'}"
            ]
          },
          "metadata": {},
          "execution_count": 8
        }
      ]
    },
    {
      "cell_type": "code",
      "source": [
        "a.add(30)\n",
        "a"
      ],
      "metadata": {
        "colab": {
          "base_uri": "https://localhost:8080/"
        },
        "id": "-jEt_y89y6hr",
        "outputId": "e0006f53-1515-43fe-ea78-62b78d41236d"
      },
      "execution_count": null,
      "outputs": [
        {
          "output_type": "execute_result",
          "data": {
            "text/plain": [
              "{30, 'Champ'}"
            ]
          },
          "metadata": {},
          "execution_count": 9
        }
      ]
    },
    {
      "cell_type": "code",
      "source": [
        "b=[\"Akshata\", 21, \"AI\"]\n",
        "set(b)"
      ],
      "metadata": {
        "colab": {
          "base_uri": "https://localhost:8080/"
        },
        "id": "Hst-fcuz07RA",
        "outputId": "f6634ee4-2349-4910-ef08-315bcb2c9ce6"
      },
      "execution_count": null,
      "outputs": [
        {
          "output_type": "execute_result",
          "data": {
            "text/plain": [
              "{21, 'AI', 'Akshata'}"
            ]
          },
          "metadata": {},
          "execution_count": 10
        }
      ]
    },
    {
      "cell_type": "markdown",
      "source": [
        "#Creating Boolean\n"
      ],
      "metadata": {
        "id": "_A8OfWze1MeU"
      }
    },
    {
      "cell_type": "code",
      "source": [
        "a=5\n",
        "b=10\n",
        "c=15\n",
        "print(a>b)\n",
        "print(a<b)\n",
        "print(a==b)\n",
        "print(a!=b)\n",
        "print(a<=b)\n",
        "print(a>=b)\n",
        "print(a<b and a<c)\n",
        "print(a<b or a<c)"
      ],
      "metadata": {
        "colab": {
          "base_uri": "https://localhost:8080/"
        },
        "id": "W402p-Wx1UW9",
        "outputId": "5281fb16-aaff-41af-bb08-1ede3dfdbfc8"
      },
      "execution_count": null,
      "outputs": [
        {
          "output_type": "stream",
          "name": "stdout",
          "text": [
            "False\n",
            "True\n",
            "False\n",
            "True\n",
            "True\n",
            "False\n",
            "True\n",
            "True\n"
          ]
        }
      ]
    },
    {
      "cell_type": "markdown",
      "source": [
        "\n",
        "#Python Statements\n"
      ],
      "metadata": {
        "id": "bnjUkFjm2T5N"
      }
    },
    {
      "cell_type": "code",
      "source": [
        "a=True\n",
        "if a:\n",
        "  print(\"Positive\")\n",
        "else:\n",
        "  print(\"Negative\")"
      ],
      "metadata": {
        "colab": {
          "base_uri": "https://localhost:8080/"
        },
        "id": "ONJCicQm2Xdy",
        "outputId": "7d9e79ee-977a-4eeb-9170-f0b02e86fe7b"
      },
      "execution_count": null,
      "outputs": [
        {
          "output_type": "stream",
          "name": "stdout",
          "text": [
            "Positive\n"
          ]
        }
      ]
    },
    {
      "cell_type": "code",
      "source": [
        "a=5\n",
        "b=6\n",
        "c=10\n",
        "if a<b:\n",
        "  print(\"a is less than b\")\n",
        "elif a==b:\n",
        "  print(\"a is equal to b\")\n",
        "  print(\"a is not less than b\")\n",
        "else:\n",
        "  print(\"a is greater than b\")  "
      ],
      "metadata": {
        "colab": {
          "base_uri": "https://localhost:8080/"
        },
        "id": "4TCG3aPE3n5l",
        "outputId": "e3c118b8-da9e-466b-fee9-ea6027a7d056"
      },
      "execution_count": null,
      "outputs": [
        {
          "output_type": "stream",
          "name": "stdout",
          "text": [
            "a is less than b\n"
          ]
        }
      ]
    },
    {
      "cell_type": "markdown",
      "source": [
        "\n",
        "#FOR\n"
      ],
      "metadata": {
        "id": "Cf2Rfisc4ns_"
      }
    },
    {
      "cell_type": "code",
      "source": [
        "a=[1,2,3,4,5,6,7,8,9,10]\n",
        "for i in a: \n",
        "   print(i)"
      ],
      "metadata": {
        "colab": {
          "base_uri": "https://localhost:8080/"
        },
        "id": "CH0u92Yb4qM4",
        "outputId": "9c7ca5eb-4655-4dfd-a4d4-c07893af06bf"
      },
      "execution_count": null,
      "outputs": [
        {
          "output_type": "stream",
          "name": "stdout",
          "text": [
            "1\n",
            "2\n",
            "3\n",
            "4\n",
            "5\n",
            "6\n",
            "7\n",
            "8\n",
            "9\n",
            "10\n"
          ]
        }
      ]
    },
    {
      "cell_type": "code",
      "source": [
        "a=[x for x in \"champ\"]\n",
        "a"
      ],
      "metadata": {
        "colab": {
          "base_uri": "https://localhost:8080/"
        },
        "id": "5_e4ThUf7Sw4",
        "outputId": "6dda1542-a42b-44d7-c091-e30671126ab5"
      },
      "execution_count": 2,
      "outputs": [
        {
          "output_type": "execute_result",
          "data": {
            "text/plain": [
              "['c', 'h', 'a', 'm', 'p']"
            ]
          },
          "metadata": {},
          "execution_count": 2
        }
      ]
    },
    {
      "cell_type": "code",
      "source": [
        "a=[1,2,3,4,5,6,7,8,9,10]\n",
        "for i in a:\n",
        "  if i % 2==0: \n",
        "    print(i,\"Even\")\n",
        "  else:\n",
        "    print(i,\"Odd\")"
      ],
      "metadata": {
        "colab": {
          "base_uri": "https://localhost:8080/"
        },
        "id": "4U1NaadF7wa0",
        "outputId": "b2cd89cd-24f3-418e-f928-79cf89b75856"
      },
      "execution_count": 6,
      "outputs": [
        {
          "output_type": "stream",
          "name": "stdout",
          "text": [
            "1 Odd\n",
            "2 Even\n",
            "3 Odd\n",
            "4 Even\n",
            "5 Odd\n",
            "6 Even\n",
            "7 Odd\n",
            "8 Even\n",
            "9 Odd\n",
            "10 Even\n"
          ]
        }
      ]
    },
    {
      "cell_type": "markdown",
      "source": [
        "\n",
        "#Dictionary"
      ],
      "metadata": {
        "id": "ituQRnLi8z43"
      }
    },
    {
      "cell_type": "code",
      "source": [
        "a={\"Name\":\"Akshata\",\"Age\":21}\n",
        "for k,v in a.items():\n",
        " print(k)\n",
        " print(v)"
      ],
      "metadata": {
        "colab": {
          "base_uri": "https://localhost:8080/"
        },
        "id": "XU0nSXvn82rf",
        "outputId": "ddcc5db8-1870-4670-f5bb-e26eeca45d3f"
      },
      "execution_count": 8,
      "outputs": [
        {
          "output_type": "stream",
          "name": "stdout",
          "text": [
            "Name\n",
            "Akshata\n",
            "Age\n",
            "21\n"
          ]
        }
      ]
    },
    {
      "cell_type": "code",
      "source": [
        "a=0\n",
        "while a<10:\n",
        "  print(a)\n",
        "  a+=1"
      ],
      "metadata": {
        "colab": {
          "base_uri": "https://localhost:8080/"
        },
        "id": "mDS5aGWP9uT9",
        "outputId": "b536e1b3-d42c-4b34-f6f0-9e514bf28eb8"
      },
      "execution_count": 10,
      "outputs": [
        {
          "output_type": "stream",
          "name": "stdout",
          "text": [
            "0\n",
            "1\n",
            "2\n",
            "3\n",
            "4\n",
            "5\n",
            "6\n",
            "7\n",
            "8\n",
            "9\n"
          ]
        }
      ]
    },
    {
      "cell_type": "code",
      "source": [
        "a=0\n",
        "while a <10:\n",
        "  print(a)\n",
        "  a+=1\n",
        "  if a==5:\n",
        "      print(\"a is equal to 5\")\n",
        "      break\n",
        "  else:\n",
        "      print(\"Continue\")\n",
        "      continue\n",
        "  "
      ],
      "metadata": {
        "colab": {
          "base_uri": "https://localhost:8080/"
        },
        "id": "RVkHHsCH-Utu",
        "outputId": "75970982-c3a4-4aa4-c1ea-4a0f5a920887"
      },
      "execution_count": 16,
      "outputs": [
        {
          "output_type": "stream",
          "name": "stdout",
          "text": [
            "0\n",
            "Continue\n",
            "1\n",
            "Continue\n",
            "2\n",
            "Continue\n",
            "3\n",
            "Continue\n",
            "4\n",
            "a is equal to 5\n"
          ]
        }
      ]
    },
    {
      "cell_type": "markdown",
      "source": [
        "#Range\n",
        "\n"
      ],
      "metadata": {
        "id": "tjZS8LS4_uXM"
      }
    },
    {
      "cell_type": "code",
      "source": [
        "for a in range(5):\n",
        "   print(a)"
      ],
      "metadata": {
        "colab": {
          "base_uri": "https://localhost:8080/"
        },
        "id": "koCwEYZj_xUl",
        "outputId": "df1664e8-4d32-4bc8-90ed-5ab8e793bd63"
      },
      "execution_count": 20,
      "outputs": [
        {
          "output_type": "stream",
          "name": "stdout",
          "text": [
            "0\n",
            "1\n",
            "2\n",
            "3\n",
            "4\n"
          ]
        }
      ]
    },
    {
      "cell_type": "code",
      "source": [
        "for a in range(10,20,2):\n",
        "  print(a)"
      ],
      "metadata": {
        "colab": {
          "base_uri": "https://localhost:8080/"
        },
        "id": "jt3XiJ5KAGsl",
        "outputId": "c8ac7d16-7304-4900-9d02-ba2b917200bd"
      },
      "execution_count": 21,
      "outputs": [
        {
          "output_type": "stream",
          "name": "stdout",
          "text": [
            "10\n",
            "12\n",
            "14\n",
            "16\n",
            "18\n"
          ]
        }
      ]
    },
    {
      "cell_type": "code",
      "source": [
        "a=[i**2 for i in range(0,5)]\n",
        "a"
      ],
      "metadata": {
        "colab": {
          "base_uri": "https://localhost:8080/"
        },
        "id": "PQkEbhizApBe",
        "outputId": "a76eb1e9-416c-4c9a-a5b9-c6189de3d3ae"
      },
      "execution_count": 22,
      "outputs": [
        {
          "output_type": "execute_result",
          "data": {
            "text/plain": [
              "[0, 1, 4, 9, 16]"
            ]
          },
          "metadata": {},
          "execution_count": 22
        }
      ]
    },
    {
      "cell_type": "markdown",
      "source": [
        "\n",
        "#Enumerate\n"
      ],
      "metadata": {
        "id": "BUf3V5_BCR-z"
      }
    },
    {
      "cell_type": "code",
      "source": [
        "a=0\n",
        "for i,a in enumerate(\"Hello Champ\"):\n",
        "  print(i,a)"
      ],
      "metadata": {
        "colab": {
          "base_uri": "https://localhost:8080/"
        },
        "id": "Bc5BEokrCUt8",
        "outputId": "569bdf69-0011-4500-9d6f-393ea465f398"
      },
      "execution_count": 23,
      "outputs": [
        {
          "output_type": "stream",
          "name": "stdout",
          "text": [
            "0 H\n",
            "1 e\n",
            "2 l\n",
            "3 l\n",
            "4 o\n",
            "5  \n",
            "6 C\n",
            "7 h\n",
            "8 a\n",
            "9 m\n",
            "10 p\n"
          ]
        }
      ]
    },
    {
      "cell_type": "markdown",
      "source": [
        "#Zip-Creating a tuple by zipping 2 lists.\n"
      ],
      "metadata": {
        "id": "goDHwbapDDlx"
      }
    },
    {
      "cell_type": "code",
      "source": [
        "a=[\"Name\", \"Age\",\"Country\"]\n",
        "b=[\"Akshata\",21,\"India\"]\n",
        "list(zip(a,b))"
      ],
      "metadata": {
        "colab": {
          "base_uri": "https://localhost:8080/"
        },
        "id": "IDO5U9jsDOL8",
        "outputId": "58e5b4f6-9989-4a54-cb6c-7bb62f058a8c"
      },
      "execution_count": 24,
      "outputs": [
        {
          "output_type": "execute_result",
          "data": {
            "text/plain": [
              "[('Name', 'Akshata'), ('Age', 21), ('Country', 'India')]"
            ]
          },
          "metadata": {},
          "execution_count": 24
        }
      ]
    }
  ]
}